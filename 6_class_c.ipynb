{
 "cells": [
  {
   "cell_type": "code",
   "execution_count": 28,
   "id": "608807ba",
   "metadata": {},
   "outputs": [],
   "source": [
    "from matplotlib import pyplot\n",
    "from sklearn.model_selection import KFold\n",
    "from sklearn.model_selection import cross_val_score\n",
    "from sklearn.linear_model import LogisticRegression\n",
    "from sklearn.tree import DecisionTreeClassifier\n",
    "from sklearn.neighbors import KNeighborsClassifier\n",
    "from sklearn.discriminant_analysis import LinearDiscriminantAnalysis\n",
    "from sklearn.naive_bayes import GaussianNB\n",
    "from sklearn.svm import SVC"
   ]
  },
  {
   "cell_type": "code",
   "execution_count": 29,
   "id": "5a3f17e2",
   "metadata": {},
   "outputs": [
    {
     "data": {
      "text/plain": [
       "'0.23.2'"
      ]
     },
     "execution_count": 29,
     "metadata": {},
     "output_type": "execute_result"
    }
   ],
   "source": [
    "# #optional\n",
    "import sklearn as sl\n",
    "import warnings\n",
    "warnings.filterwarnings(\"ignore\")\n",
    "sl.__version__"
   ]
  },
  {
   "cell_type": "code",
   "execution_count": 30,
   "id": "5e141028",
   "metadata": {},
   "outputs": [
    {
     "name": "stdout",
     "output_type": "stream",
     "text": [
      "Cancer input shape is:  (569, 30)\n"
     ]
    }
   ],
   "source": [
    "from sklearn.datasets import load_breast_cancer\n",
    "cancer = load_breast_cancer()\n",
    "\n",
    "print(\"Cancer input shape is: \", cancer.data.shape)"
   ]
  },
  {
   "cell_type": "code",
   "execution_count": 31,
   "id": "03983c40",
   "metadata": {},
   "outputs": [],
   "source": [
    "X = cancer.data\n",
    "Y = cancer.target"
   ]
  },
  {
   "cell_type": "code",
   "execution_count": 32,
   "id": "1c7e6b4c",
   "metadata": {},
   "outputs": [
    {
     "name": "stdout",
     "output_type": "stream",
     "text": [
      "LR: 0.935025 (0.039221)\n",
      "LDA: 0.959555 (0.029449)\n",
      "KNN: 0.926253 (0.046232)\n",
      "CART: 0.922650 (0.027469)\n",
      "NB: 0.936779 (0.036077)\n",
      "SVM: 0.915758 (0.077166)\n"
     ]
    },
    {
     "data": {
      "image/png": "[encoded data removed]",
      "text/plain": [
       "<Figure size 432x288 with 1 Axes>"
      ]
     },
     "metadata": {
      "needs_background": "light"
     },
     "output_type": "display_data"
    }
   ],
   "source": [
    "# prepare models\n",
    "models = []\n",
    "models.append(('LR', LogisticRegression()))\n",
    "models.append(('LDA', LinearDiscriminantAnalysis()))\n",
    "models.append(('KNN', KNeighborsClassifier()))\n",
    "models.append(('CART', DecisionTreeClassifier()))\n",
    "models.append(('NB', GaussianNB()))\n",
    "models.append(('SVM', SVC()))\n",
    "# evaluate each model in turn\n",
    "results = []\n",
    "names = []\n",
    "scoring = 'accuracy'\n",
    "for name, model in models:\n",
    "    kfold = KFold(n_splits=10, random_state=7)\n",
    "    cv_results = cross_val_score(model, X, Y, cv=kfold, scoring=scoring)\n",
    "    results.append(cv_results)\n",
    "    names.append(name)\n",
    "    msg = \"%s: %f (%f)\" % (name, cv_results.mean(), cv_results.std())\n",
    "    print(msg)\n",
    "# boxplot algorithm comparison\n",
    "fig = pyplot.figure()\n",
    "fig.suptitle('Algorithm Comparison')\n",
    "ax = fig.add_subplot(111)\n",
    "pyplot.boxplot(results)\n",
    "ax.set_xticklabels(names)\n",
    "pyplot.show()\n"
   ]
  },
  {
   "cell_type": "code",
   "execution_count": 33,
   "id": "01ab3134",
   "metadata": {},
   "outputs": [],
   "source": [
    "from sklearn.model_selection import train_test_split\n",
    "# Training the model. Model wasnot trained before it was just evaluated by accuracy\n",
    "validation_size = 0.20\n",
    "seed = 7\n",
    "X_train, X_validation, Y_train, Y_validation = train_test_split(X, Y, test_size=validation_size, random_state=seed)"
   ]
  },
  {
   "cell_type": "code",
   "execution_count": 34,
   "id": "0c237d6c",
   "metadata": {},
   "outputs": [],
   "source": [
    "# from sklearn.linear_model import LogisticRegression\n",
    "# from sklearn.discriminant_analysis import LinearDiscriminantAnalysis\n",
    "# from sklearn.neighbors import KNeighborsClassifier\n",
    "# from sklearn.tree import DecisionTreeClassifier\n",
    "# from sklearn.naive_bayes import GaussianNB\n",
    "# from sklearn.svm import SVC\n",
    "#also\n",
    "from sklearn.pipeline import Pipeline\n",
    "from sklearn.preprocessing import StandardScaler"
   ]
  },
  {
   "cell_type": "code",
   "execution_count": 35,
   "id": "7533674f",
   "metadata": {
    "scrolled": true
   },
   "outputs": [
    {
     "name": "stdout",
     "output_type": "stream",
     "text": [
      "ScaledLR: 0.971401 (0.029462)\n",
      "ScaledLDA: 0.953865 (0.033254)\n",
      "ScaledKNN: 0.953961 (0.040699)\n",
      "ScaledCART: 0.907778 (0.052815)\n",
      "ScaledNB: 0.936280 (0.033143)\n",
      "ScaledSVM: 0.964831 (0.020203)\n"
     ]
    },
    {
     "data": {
      "image/png": "[encoded data removed]",
      "text/plain": [
       "<Figure size 432x288 with 1 Axes>"
      ]
     },
     "metadata": {
      "needs_background": "light"
     },
     "output_type": "display_data"
    }
   ],
   "source": [
    "# Standardize the dataset\n",
    "pipelines = []\n",
    "pipelines.append(('ScaledLR', Pipeline([('Scaler', StandardScaler()),('LR', LogisticRegression())])))\n",
    "pipelines.append(('ScaledLDA', Pipeline([('Scaler', StandardScaler()),('LDA', LinearDiscriminantAnalysis())])))\n",
    "pipelines.append(('ScaledKNN', Pipeline([('Scaler', StandardScaler()),('KNN', KNeighborsClassifier())])))\n",
    "pipelines.append(('ScaledCART', Pipeline([('Scaler', StandardScaler()),('CART', DecisionTreeClassifier())])))\n",
    "pipelines.append(('ScaledNB', Pipeline([('Scaler', StandardScaler()),('NB', GaussianNB())])))\n",
    "pipelines.append(('ScaledSVM', Pipeline([('Scaler', StandardScaler()),('SVM', SVC())])))\n",
    "num_folds = 10\n",
    "seed = 7\n",
    "results = []\n",
    "names = []\n",
    "for name, model in pipelines:\n",
    "    kfold = KFold(n_splits=num_folds, random_state=seed)\n",
    "    cv_results = cross_val_score(model, X_train, Y_train, cv=kfold, scoring=scoring)\n",
    "    results.append(cv_results)\n",
    "    names.append(name)\n",
    "    msg = \"%s: %f (%f)\" % (name, cv_results.mean(), cv_results.std())\n",
    "    print(msg)\n",
    "\n",
    "# Compare Algorithms\n",
    "fig = pyplot.figure()\n",
    "fig.suptitle('Scaled Algorithm Comparison')\n",
    "ax = fig.add_subplot(111)\n",
    "pyplot.boxplot(results)\n",
    "ax.set_xticklabels(names)\n",
    "pyplot.show()\n"
   ]
  },
  {
   "cell_type": "code",
   "execution_count": 36,
   "id": "4bdb3771",
   "metadata": {},
   "outputs": [],
   "source": [
    "# The best is scaled ScaledLR: 0.971401 - logistic regression\n",
    "#     so we can go further to tune hyperparameters for this. "
   ]
  },
  {
   "cell_type": "code",
   "execution_count": 37,
   "id": "8543dcf8",
   "metadata": {},
   "outputs": [
    {
     "name": "stdout",
     "output_type": "stream",
     "text": [
      "Best: 0.9780193236714976 using {'C': 0.3, 'penalty': 'l2'}\n",
      "--------------------------\n",
      "nan (nan) with: {'C': 0.1, 'penalty': 'l1'}\n",
      "0.975894 (0.020593) with: {'C': 0.1, 'penalty': 'l2'}\n",
      "nan (nan) with: {'C': 0.3, 'penalty': 'l1'}\n",
      "0.978019 (0.023993) with: {'C': 0.3, 'penalty': 'l2'}\n",
      "nan (nan) with: {'C': 0.5, 'penalty': 'l1'}\n",
      "0.975797 (0.026832) with: {'C': 0.5, 'penalty': 'l2'}\n",
      "nan (nan) with: {'C': 0.7, 'penalty': 'l1'}\n",
      "0.971401 (0.029462) with: {'C': 0.7, 'penalty': 'l2'}\n",
      "nan (nan) with: {'C': 0.9, 'penalty': 'l1'}\n",
      "0.971401 (0.029462) with: {'C': 0.9, 'penalty': 'l2'}\n",
      "nan (nan) with: {'C': 1.0, 'penalty': 'l1'}\n",
      "0.971401 (0.029462) with: {'C': 1.0, 'penalty': 'l2'}\n",
      "nan (nan) with: {'C': 1.3, 'penalty': 'l1'}\n",
      "0.971449 (0.033882) with: {'C': 1.3, 'penalty': 'l2'}\n",
      "nan (nan) with: {'C': 1.5, 'penalty': 'l1'}\n",
      "0.971449 (0.033882) with: {'C': 1.5, 'penalty': 'l2'}\n",
      "nan (nan) with: {'C': 1.7, 'penalty': 'l1'}\n",
      "0.971449 (0.033882) with: {'C': 1.7, 'penalty': 'l2'}\n",
      "nan (nan) with: {'C': 2.0, 'penalty': 'l1'}\n",
      "0.971449 (0.033882) with: {'C': 2.0, 'penalty': 'l2'}\n"
     ]
    }
   ],
   "source": [
    "#Tuning Logistic Regression\n",
    "from sklearn.model_selection import GridSearchCV\n",
    "\n",
    "scaler = StandardScaler().fit(X_train)\n",
    "rescaledX = scaler.transform(X_train)\n",
    "c_values = [0.1, 0.3, 0.5, 0.7, 0.9, 1.0, 1.3, 1.5, 1.7, 2.0]\n",
    "penalty = ['l1', 'l2']\n",
    "param_grid = dict(C=c_values, penalty=penalty)\n",
    "model = LogisticRegression()\n",
    "kfold = KFold(n_splits=num_folds, random_state=seed)\n",
    "grid = GridSearchCV(estimator=model, param_grid=param_grid, scoring=scoring, cv=kfold)\n",
    "grid_result = grid.fit(rescaledX, Y_train)\n",
    "print(\"Best: {} using {}\".format(grid_result.best_score_, grid_result.best_params_))\n",
    "print ('--------------------------')\n",
    "#####\n",
    "means = grid_result.cv_results_['mean_test_score']\n",
    "stds = grid_result.cv_results_['std_test_score']\n",
    "params = grid_result.cv_results_['params']\n",
    "for mean, stdev, param in zip(means, stds, params):\n",
    "    print(\"%f (%f) with: %r\" % (mean, stdev, param))"
   ]
  },
  {
   "cell_type": "code",
   "execution_count": 38,
   "id": "489ceaf4",
   "metadata": {},
   "outputs": [],
   "source": [
    "# accuracy increased fom 0.971 to 0.978\n",
    "#after this we prepare the model with the tuned hyperparameter"
   ]
  },
  {
   "cell_type": "code",
   "execution_count": 39,
   "id": "3d25020f",
   "metadata": {},
   "outputs": [],
   "source": [
    "# Prepare the model - if you just want to use only one model . if not you can bag several models - ensembles\n",
    "# scaler = StandardScaler().fit(X_train)\n",
    "# s_X = scaler.transform(X_train)\n",
    "# model = LogisticRegression(C=0.3, penalty='l2')\n",
    "# model.fit(s_X, Y_train)"
   ]
  },
  {
   "cell_type": "code",
   "execution_count": 40,
   "id": "0a6182aa",
   "metadata": {},
   "outputs": [],
   "source": [
    "# after tunning we could use ensembles to combine the best models. probably best 3 models"
   ]
  },
  {
   "cell_type": "code",
   "execution_count": 41,
   "id": "b9e42d1b",
   "metadata": {},
   "outputs": [
    {
     "name": "stdout",
     "output_type": "stream",
     "text": [
      "AB: 0.964879 (0.034203)\n",
      "GBM: 0.951739 (0.030620)\n",
      "RF: 0.956039 (0.024173)\n",
      "ET: 0.956135 (0.032379)\n"
     ]
    },
    {
     "data": {
      "image/png": "[encoded data removed]",
      "text/plain": [
       "<Figure size 432x288 with 1 Axes>"
      ]
     },
     "metadata": {
      "needs_background": "light"
     },
     "output_type": "display_data"
    }
   ],
   "source": [
    "#new imports \n",
    "from sklearn.ensemble import AdaBoostClassifier\n",
    "from sklearn.ensemble import GradientBoostingClassifier\n",
    "from sklearn.ensemble import RandomForestClassifier\n",
    "from sklearn.ensemble import ExtraTreesClassifier\n",
    "\n",
    "# ensembles\n",
    "ensembles = []\n",
    "ensembles.append(('AB', AdaBoostClassifier()))\n",
    "ensembles.append(('GBM', GradientBoostingClassifier()))\n",
    "ensembles.append(('RF', RandomForestClassifier()))\n",
    "ensembles.append(('ET', ExtraTreesClassifier()))\n",
    "results = []\n",
    "names = []\n",
    "for name, model in ensembles:\n",
    "    kfold = KFold(n_splits=num_folds, random_state=seed)\n",
    "    cv_results = cross_val_score(model, X_train, Y_train, cv=kfold, scoring=scoring)\n",
    "    results.append(cv_results)\n",
    "    names.append(name)\n",
    "    msg = \"%s: %f (%f)\" % (name, cv_results.mean(), cv_results.std())\n",
    "    print(msg)\n",
    "\n",
    "# Compare Algorithms\n",
    "fig = pyplot.figure()\n",
    "fig.suptitle('Ensemble Algorithm Comparison')\n",
    "ax = fig.add_subplot(111)\n",
    "pyplot.boxplot(results)\n",
    "ax.set_xticklabels(names)\n",
    "pyplot.show()\n"
   ]
  },
  {
   "cell_type": "code",
   "execution_count": 42,
   "id": "2e92f01c",
   "metadata": {},
   "outputs": [
    {
     "data": {
      "text/plain": [
       "LogisticRegression(C=0.3)"
      ]
     },
     "execution_count": 42,
     "metadata": {},
     "output_type": "execute_result"
    }
   ],
   "source": [
    "# Finalize Model\n",
    "scaler = StandardScaler().fit(X_train)\n",
    "s_X = scaler.transform(X_train)\n",
    "model = LogisticRegression(C=0.3, penalty='l2')\n",
    "model.fit(s_X, Y_train)\n"
   ]
  },
  {
   "cell_type": "code",
   "execution_count": 43,
   "id": "3e46d39b",
   "metadata": {},
   "outputs": [
    {
     "name": "stdout",
     "output_type": "stream",
     "text": [
      "0.9649122807017544\n",
      "[[36  4]\n",
      " [ 0 74]]\n",
      "              precision    recall  f1-score   support\n",
      "\n",
      "           0       1.00      0.90      0.95        40\n",
      "           1       0.95      1.00      0.97        74\n",
      "\n",
      "    accuracy                           0.96       114\n",
      "   macro avg       0.97      0.95      0.96       114\n",
      "weighted avg       0.97      0.96      0.96       114\n",
      "\n"
     ]
    }
   ],
   "source": [
    "# estimate accuracy on validation dataset\n",
    "\n",
    "#new imports\n",
    "from sklearn.metrics import classification_report\n",
    "from sklearn.metrics import confusion_matrix\n",
    "from sklearn.metrics import accuracy_score\n",
    "\n",
    "rescaledValidationX = scaler.transform(X_validation)\n",
    "predictions = model.predict(rescaledValidationX)\n",
    "print(accuracy_score(Y_validation, predictions))\n",
    "print(confusion_matrix(Y_validation, predictions))\n",
    "print(classification_report(Y_validation, predictions))"
   ]
  },
  {
   "cell_type": "code",
   "execution_count": null,
   "id": "0709e2d6",
   "metadata": {},
   "outputs": [],
   "source": []
  }
 ],
 "metadata": {
  "kernelspec": {
   "display_name": "Python 3 (ipykernel)",
   "language": "python",
   "name": "python3"
  },
  "language_info": {
   "codemirror_mode": {
    "name": "ipython",
    "version": 3
   },
   "file_extension": ".py",
   "mimetype": "text/x-python",
   "name": "python",
   "nbconvert_exporter": "python",
   "pygments_lexer": "ipython3",
   "version": "3.7.7"
  }
 },
 "nbformat": 4,
 "nbformat_minor": 5
}
